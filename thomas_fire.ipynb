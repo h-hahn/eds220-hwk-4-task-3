{
 "cells": [
  {
   "cell_type": "markdown",
   "id": "9136466c-f980-4313-aa01-c3325ebb31b9",
   "metadata": {},
   "source": [
    "# Thomas Fire \n",
    "\n",
    "Author: Hope Hahn\n",
    "\n",
    "Github: https://github.com/h-hahn/eds220-hwk-4-task-3"
   ]
  },
  {
   "cell_type": "markdown",
   "id": "65be8b17-3863-47b3-8a4e-8a3df02f2362",
   "metadata": {},
   "source": [
    "## About \n",
    "#### Purpose\n",
    "\n",
    "The following analysis looks at the burn scars of the Thomas fire with false color imagery as well as the Air Quality Index over time; including the time period of the Thomas fire in December 2017.\n",
    "\n",
    "#### Highlights of analysis\n",
    "\n",
    "- Fetch data from US Environmental Protection Agency, Landsat 8 satellite, and California Fire Perimeters\n",
    "- Prepare Air Quality Index data for plotting\n",
    "- Prepare Landsat and California Perimeter data for plotting\n",
    "- Visualize Air Quality data from 2017-2018\n",
    "- Visualize Thomas Fire perimeter on False Color Imagery map\n",
    "\n",
    "#### Dataset description\n",
    "\n",
    "**Air Quality Data**\n",
    "\n",
    "Air Quality Index data from the US Environmental Protection Agency.\n",
    "\n",
    "**Landsat Satellite Data**\n",
    "\n",
    "A simplified collection of bands (red, green, blue, near-infrared and shortwave infrared) from the Landsat Collection 2 Level-2 atmosperically corrected surface reflectance data, collected by the Landsat 8 satellite. \n",
    "\n",
    "The data was accessed and pre-processed in the Microsoft Planetary Computer to remove data outside land and coarsen the spatial resolution ([Landsat Collection in MPC](https://planetarycomputer.microsoft.com/dataset/landsat-c2-l2)). Data should be used for visualization purposes only. \n",
    "\n",
    "**California Fire Perimeter Data**\n",
    "\n",
    "A shapefile of fire perimeters in California during 2017. \n",
    "The [complete file can be accessed in the CA state geoportal](https://gis.data.ca.gov/datasets/CALFIRE-Forestry::california-fire-perimeters-all-1/about).\n",
    "\n",
    "#### Dataset References"
   ]
  },
  {
   "cell_type": "markdown",
   "id": "87fab390-84b9-484c-87fd-8acbe40d91d5",
   "metadata": {},
   "source": [
    "## Import Libraries"
   ]
  },
  {
   "cell_type": "code",
   "execution_count": null,
   "id": "3f190f68-ad59-4c20-8bfc-82c2e7fca36a",
   "metadata": {
    "tags": []
   },
   "outputs": [],
   "source": [
    "import pandas as pd\n",
    "import os\n",
    "import rioxarray as rioxr\n",
    "import geopandas as gpd\n",
    "import matplotlib.pyplot as plt"
   ]
  },
  {
   "cell_type": "markdown",
   "id": "4c6b8353-a610-4e15-aecc-8be99e1bd6f6",
   "metadata": {},
   "source": [
    "## Import Data\n",
    "\n",
    "Import data for Air Quality Index from 2017 and 2018, as well as data of fire perimeters in California and satellite band data:"
   ]
  },
  {
   "cell_type": "code",
   "execution_count": null,
   "id": "3bcec493-9a64-45f4-8aa4-66124cd46912",
   "metadata": {},
   "outputs": [],
   "source": [
    "# read in data for 2017 daily AQI by county\n",
    "aqi_17 = pd.read_csv('https://aqs.epa.gov/aqsweb/airdata/daily_aqi_by_county_2017.zip')\n",
    "\n",
    "# read data for 2018 Daily AQI by county\n",
    "aqi_18 = pd.read_csv('https://aqs.epa.gov/aqsweb/airdata/daily_aqi_by_county_2018.zip')\n",
    "\n",
    "# import landsat file\n",
    "landsat1 = os.path.join(os.getcwd(),'data','landsat8-2018-01-26-sb-simplified.nc')\n",
    "landsat = rioxr.open_rasterio(landsat1)\n",
    "\n",
    "# import fire perimiters dataset\n",
    "cal_fire = gpd.read_file('data/California_Fire_Perimeters_2017')"
   ]
  },
  {
   "cell_type": "markdown",
   "id": "124d811e-9150-4ecf-a2df-4df8ed7b3ef9",
   "metadata": {},
   "source": [
    "## Data Exploration\n",
    "\n",
    "Looking at our data before wrangling and analysis:"
   ]
  },
  {
   "cell_type": "code",
   "execution_count": null,
   "id": "caa2405e-3c02-4ed5-8955-436f2e4bd209",
   "metadata": {},
   "outputs": [],
   "source": [
    "# look at head of 2017 daily AQI\n",
    "aqi_17.head()"
   ]
  },
  {
   "cell_type": "code",
   "execution_count": null,
   "id": "daa7c573-1a66-49df-9dbc-50c55224941b",
   "metadata": {},
   "outputs": [],
   "source": [
    "# look at head of 2018 daily AQI\n",
    "aqi_18.head()"
   ]
  },
  {
   "cell_type": "code",
   "execution_count": null,
   "id": "323c3534-f294-4a65-baec-3b2fb21ddd79",
   "metadata": {},
   "outputs": [],
   "source": [
    "# look at head of landsat data\n",
    "landsat.head()"
   ]
  },
  {
   "cell_type": "code",
   "execution_count": null,
   "id": "3d535acf-50d1-4e74-a3aa-5c8d272828ac",
   "metadata": {},
   "outputs": [],
   "source": [
    "# look at california perimiter head\n",
    "cal_fire.head()"
   ]
  },
  {
   "cell_type": "code",
   "execution_count": null,
   "id": "c552f14c-f933-49b3-9884-d44b0ad323c3",
   "metadata": {
    "tags": []
   },
   "outputs": [],
   "source": [
    "# check if CRS is the same\n",
    "cal_fire.crs == landsat.rio.crs"
   ]
  },
  {
   "cell_type": "markdown",
   "id": "2debf075-2c21-4511-87fc-5df77ec3480a",
   "metadata": {},
   "source": [
    "## Data Preparation and Tidying\n",
    "\n",
    "Preparing data for analysis and plotting.\n",
    "\n",
    "### AQI data preparation\n",
    "\n",
    "**Combine 2017 and 2018 AQI data and tidy column names:**"
   ]
  },
  {
   "cell_type": "code",
   "execution_count": null,
   "id": "50d7dc22-78b1-478d-8c21-49fff63907ca",
   "metadata": {
    "tags": []
   },
   "outputs": [],
   "source": [
    "# glue dataframes together\n",
    "aqi = pd.concat([aqi_17, aqi_18])\n",
    "\n",
    "# re-assign the column names - .str.lower() makes them lower case\n",
    "aqi.columns = aqi.columns.str.lower()\n",
    "\n",
    "#  re-assign the column names again - .str.replace(' ','_') replaces the space for _\n",
    "aqi.columns = aqi.columns.str.replace(' ','_')\n",
    "\n",
    "# check to see that columns were updated\n",
    "aqi.columns"
   ]
  },
  {
   "cell_type": "markdown",
   "id": "5e03e6e0-a2c7-4a0a-9f6b-30fa14a37dad",
   "metadata": {},
   "source": [
    "**Select only data from Santa Barbara County and remove unecessary columns:**"
   ]
  },
  {
   "cell_type": "code",
   "execution_count": null,
   "id": "bee08e39-1ff2-4da1-8fe9-29792bfe9129",
   "metadata": {
    "tags": []
   },
   "outputs": [],
   "source": [
    "# select data only from Santa Barbara County\n",
    "aqi_sb = aqi[ aqi['county_name'] == 'Santa Barbara']\n",
    "\n",
    "# remove state name, county name, state code, and county_code columns\n",
    "aqi_sb = aqi_sb.drop(columns = ['state_name', 'county_name', 'state_code', 'county_code'])\n",
    "\n",
    "# check to see columns were dropped\n",
    "aqi_sb.columns"
   ]
  },
  {
   "cell_type": "markdown",
   "id": "95b3b10e-ae37-4119-be74-dc4385827989",
   "metadata": {},
   "source": [
    "**Convert date column to Datetime object and set date column as index:**"
   ]
  },
  {
   "cell_type": "code",
   "execution_count": null,
   "id": "f15f1ba7-0888-4bbe-b217-87eae14785a7",
   "metadata": {},
   "outputs": [],
   "source": [
    "# 1. update date column of aqi_sb to be datetime object\n",
    "aqi_sb['date'] = pd.to_datetime(aqi_sb['date']) \n",
    "\n",
    "# 2. update the index of aqi_sb to be the date column\n",
    "aqi_sb.set_index('date', inplace = True)\n",
    "\n",
    "# check updated index\n",
    "aqi_sb.index"
   ]
  },
  {
   "cell_type": "markdown",
   "id": "a68b6d83-b9c1-4f7e-b18e-5ac72b6677e5",
   "metadata": {},
   "source": [
    "**Calculate five-day rolling average and add it to Santa Barbara AQI data:**"
   ]
  },
  {
   "cell_type": "code",
   "execution_count": null,
   "id": "ef623b56-4f18-4034-b96a-4fcf386b73cc",
   "metadata": {
    "tags": []
   },
   "outputs": [],
   "source": [
    "# calculate 5 day rolling average\n",
    "aqi_sb.aqi.rolling('5D').mean()\n",
    "\n",
    "# add five_day_average to aqi_sb dataframe\n",
    "aqi_sb['five_day_average'] = aqi_sb.aqi.rolling('5D').mean()\n",
    "\n",
    "# checking new column was added\n",
    "aqi_sb.columns"
   ]
  },
  {
   "cell_type": "markdown",
   "id": "ac81d044-18c3-4b75-9634-28337700abc3",
   "metadata": {},
   "source": [
    "### Landsat & California Fire Perimeter data preparation:\n",
    "\n",
    "**Drop the band from the landsat data to make it 2D:**"
   ]
  },
  {
   "cell_type": "code",
   "execution_count": null,
   "id": "f8b820b5-75e8-4875-be0c-feaa8159b26e",
   "metadata": {
    "tags": []
   },
   "outputs": [],
   "source": [
    "# drop band from landsat data\n",
    "landsat = landsat.squeeze().drop('band')\n",
    "\n",
    "# make sure that band was dropped\n",
    "landsat.dims"
   ]
  },
  {
   "cell_type": "markdown",
   "id": "53434612-c67c-4793-bae3-db7944ed7ee0",
   "metadata": {},
   "source": [
    "**Convert the California Fire Perimeter dataset to have the same CRS as the landsat data:**"
   ]
  },
  {
   "cell_type": "code",
   "execution_count": null,
   "id": "8ec44745-c7cf-442d-8ed5-b39b10d6b6aa",
   "metadata": {
    "tags": []
   },
   "outputs": [],
   "source": [
    "# set california fire perimeter crs to landsat crs\n",
    "cal_fire = cal_fire.to_crs(landsat.rio.crs)\n",
    "\n",
    "# check to see crs is same\n",
    "cal_fire.crs == landsat.rio.crs"
   ]
  },
  {
   "cell_type": "markdown",
   "id": "c2fbb89a-16dc-4828-a145-d1c9365104dc",
   "metadata": {},
   "source": [
    "**Subset Thomas Fire perimeter**"
   ]
  },
  {
   "cell_type": "code",
   "execution_count": null,
   "id": "29ee1c17-cea9-42a9-905b-c254831a6cb7",
   "metadata": {},
   "outputs": [],
   "source": [
    "# select for thomas fire perimeter\n",
    "thomas_fire = cal_fire[cal_fire['FIRE_NAME'] == 'THOMAS']"
   ]
  },
  {
   "cell_type": "markdown",
   "id": "c689f3b6-4ada-48e9-9e69-73aebd9044e9",
   "metadata": {},
   "source": [
    "## Plotting\n",
    "\n",
    "**Plot the daily AQI and five-day rolling average in 2017 and 2018 in Santa Barbara County:**"
   ]
  },
  {
   "cell_type": "code",
   "execution_count": null,
   "id": "3bcce64a-c673-4375-86fe-620ed7f72c2a",
   "metadata": {
    "tags": []
   },
   "outputs": [],
   "source": [
    "# plot daily AQI and 5-day average in 2017 and 2018 \n",
    "aqi_sb.plot(y = ['aqi', 'five_day_average'],\n",
    "            xlabel = 'Date',\n",
    "            title = 'AQI and AQI 5 day average over time')"
   ]
  },
  {
   "cell_type": "markdown",
   "id": "4dbda482-f0e4-445e-9449-61619cd25739",
   "metadata": {},
   "source": [
    "**Create false color image with SWIR, NIR, and red; convert to numpy array; then plot:**"
   ]
  },
  {
   "cell_type": "code",
   "execution_count": null,
   "id": "0db5bc06-e2a0-438e-a452-8bc7614c5871",
   "metadata": {},
   "outputs": [],
   "source": [
    "# create false color image with swir22, nir, red\n",
    "# convert to numpy array\n",
    "# then plot\n",
    "landsat[['swir22', 'nir08', 'red']].to_array().plot.imshow(robust = True)"
   ]
  },
  {
   "cell_type": "markdown",
   "id": "a52a2baf-2a68-4253-810b-0e2eae346b88",
   "metadata": {},
   "source": [
    "**Plot previous plot with Thomas Fire Perimeter Border**"
   ]
  },
  {
   "cell_type": "code",
   "execution_count": null,
   "id": "d6c6df51-cf58-4398-a1bb-042b5adcde2f",
   "metadata": {
    "tags": []
   },
   "outputs": [],
   "source": [
    "# create axis\n",
    "fig, ax = plt.subplots()\n",
    "\n",
    "# -----------------------------------------------------\n",
    "\n",
    "# plot thomas fire perimeter\n",
    "thomas_fire.plot(ax = ax,\n",
    "                color = 'cornflowerblue',\n",
    "                edgecolor = 'black')\n",
    "\n",
    "#------------------------------------------------------\n",
    "\n",
    "# plot the false color image\n",
    "landsat[['swir22', 'nir08', 'red']].to_array().plot.imshow(robust = True)\n",
    "\n",
    "# -----------------------------------------------------\n",
    "\n",
    "# set the title \n",
    "ax.set_title('Thomas Fire Perimeter in Santa Barbara/Ventura County (False Color Imagery)', \n",
    "             fontsize = 15,\n",
    "             x=0.5, y=1.1) # move title up\n",
    "\n",
    "\n",
    "# show plot\n",
    "plt.show()"
   ]
  },
  {
   "cell_type": "markdown",
   "id": "7c748b95-764b-4899-954c-163d9b729288",
   "metadata": {},
   "source": [
    "# Final Output"
   ]
  },
  {
   "cell_type": "code",
   "execution_count": null,
   "id": "00aa22b7-3946-4b57-ab96-08333138940d",
   "metadata": {},
   "outputs": [],
   "source": [
    "# import libraries and functions\n",
    "import geopandas as gpd\n",
    "import os\n",
    "import rioxarray as rioxr\n",
    "import matplotlib.pyplot as plt\n",
    "import pandas as pd\n",
    "\n",
    "# ---------------------------------------------------------\n",
    "\n",
    "# import data\n",
    "\n",
    "# read in data for 2017 daily AQI by county\n",
    "aqi_17 = pd.read_csv('https://aqs.epa.gov/aqsweb/airdata/daily_aqi_by_county_2017.zip')\n",
    "\n",
    "# read data for 2018 Daily AQI by county\n",
    "aqi_18 = pd.read_csv('https://aqs.epa.gov/aqsweb/airdata/daily_aqi_by_county_2018.zip')\n",
    "\n",
    "# import landsat file\n",
    "landsat1 = os.path.join(os.getcwd(),'data','landsat8-2018-01-26-sb-simplified.nc')\n",
    "landsat = rioxr.open_rasterio(landsat1)\n",
    "\n",
    "# import fire perimiters dataset\n",
    "cal_fire = gpd.read_file('data/California_Fire_Perimeters_2017')\n",
    "\n",
    "# ---------------------------------------------------------\n",
    "\n",
    "# preparing aqi data\n",
    "\n",
    "# glue dataframes together\n",
    "aqi = pd.concat([aqi_17, aqi_18])\n",
    "\n",
    "# re-assign the column names - .str.lower() makes them lower case\n",
    "aqi.columns = aqi.columns.str.lower()\n",
    "\n",
    "#  re-assign the column names again - .str.replace(' ','_') replaces the space for _\n",
    "aqi.columns = aqi.columns.str.replace(' ','_')\n",
    "\n",
    "# select data only from Santa Barbara County\n",
    "aqi_sb = aqi[ aqi['county_name'] == 'Santa Barbara']\n",
    "\n",
    "# remove state name, county name, state code, and county_code columns\n",
    "aqi_sb = aqi_sb.drop(columns = ['state_name', 'county_name', 'state_code', 'county_code'])\n",
    "\n",
    "# 1. update date column of aqi_sb to be datetime object\n",
    "aqi_sb['date'] = pd.to_datetime(aqi_sb['date']) \n",
    "\n",
    "# 2. update the index of aqi_sb to be the date column\n",
    "aqi_sb.set_index('date', inplace = True)\n",
    "\n",
    "# 5 day rolling window calculation\n",
    "aqi_sb.aqi.rolling('5D').mean()\n",
    "\n",
    "# add five_day_average to aqi_sb dataframe\n",
    "aqi_sb['five_day_average'] = aqi_sb.aqi.rolling('5D').mean()\n",
    "\n",
    "# ---------------------------------------------------------\n",
    "\n",
    "# prepare landsat and fire data\n",
    "\n",
    "# drop band from landsat data\n",
    "landsat = landsat.squeeze().drop('band')\n",
    "\n",
    "# set california fire perimeter crs to landsat crs\n",
    "cal_fire = cal_fire.to_crs(landsat.rio.crs)\n",
    "\n",
    "# select for thomas fire perimeter\n",
    "thomas_fire = cal_fire[cal_fire['FIRE_NAME'] == 'THOMAS']\n",
    "\n",
    "# ---------------------------------------------------------\n",
    "\n",
    "# plot daily AQI and 5-day average\n",
    "aqi_sb.plot(y = ['aqi', 'five_day_average'],\n",
    "            xlabel = 'Date',\n",
    "            title = 'AQI and AQI 5 day average over time')\n",
    "\n",
    "# ---------------------------------------------------------\n",
    "\n",
    "# create thomas fire perimeter plot\n",
    "\n",
    "# create axis\n",
    "fig, ax = plt.subplots()\n",
    "\n",
    "# ------------------------------\n",
    "\n",
    "# plot thomas fire perimeter\n",
    "thomas_fire.plot(ax = ax,\n",
    "                 facecolor=\"none\",\n",
    "                 edgecolor = 'black')\n",
    "\n",
    "#--------------------------------\n",
    "\n",
    "# plot the false color image\n",
    "landsat[['swir22', 'nir08', 'red']].to_array().plot.imshow(robust = True)\n",
    "\n",
    "# -------------------------------\n",
    "\n",
    "# set the title \n",
    "ax.set_title('Thomas Fire Perimeter in Santa Barbara/Ventura County (False Color Imagery)', \n",
    "             fontsize = 15,\n",
    "             x=0.5, y=1.1) # move title up\n",
    "\n",
    "# show plot\n",
    "plt.show()"
   ]
  }
 ],
 "metadata": {
  "kernelspec": {
   "display_name": "Anaconda 3 (Base)",
   "language": "python",
   "name": "base"
  },
  "language_info": {
   "codemirror_mode": {
    "name": "ipython",
    "version": 3
   },
   "file_extension": ".py",
   "mimetype": "text/x-python",
   "name": "python",
   "nbconvert_exporter": "python",
   "pygments_lexer": "ipython3",
   "version": "3.9.13"
  }
 },
 "nbformat": 4,
 "nbformat_minor": 5
}
